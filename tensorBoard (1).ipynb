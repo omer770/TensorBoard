{
  "cells": [
    {
      "cell_type": "markdown",
      "metadata": {
        "id": "Hk-quM7UBqgA"
      },
      "source": [
        "<h2 style=\"color:blue\" align=\"center\">Tensorboard demo using handwritten digits classification using neural network</h2>"
      ]
    },
    {
      "cell_type": "markdown",
      "metadata": {
        "id": "wEdQ7Hj9BqgE"
      },
      "source": [
        "In this notebook we will classify handwritten digits using a simple neural network which has only input and output layers. We will than add a hidden layer and see how the performance of the model improves"
      ]
    },
    {
      "cell_type": "code",
      "execution_count": 1,
      "metadata": {
        "id": "qOFqtT6EBqgF"
      },
      "outputs": [],
      "source": [
        "import tensorflow as tf\n",
        "from tensorflow import keras\n",
        "import matplotlib.pyplot as plt\n",
        "\n",
        "import numpy as np"
      ]
    },
    {
      "cell_type": "code",
      "execution_count": 2,
      "metadata": {
        "colab": {
          "base_uri": "https://localhost:8080/"
        },
        "id": "8W-UMBIyBqgF",
        "outputId": "70ecbc10-7728-4158-b590-8ef3345049a2"
      },
      "outputs": [
        {
          "output_type": "stream",
          "name": "stdout",
          "text": [
            "Downloading data from https://storage.googleapis.com/tensorflow/tf-keras-datasets/mnist.npz\n",
            "11490434/11490434 [==============================] - 0s 0us/step\n"
          ]
        }
      ],
      "source": [
        "(X_train, y_train) , (X_test, y_test) = keras.datasets.mnist.load_data()"
      ]
    },
    {
      "cell_type": "code",
      "execution_count": 3,
      "metadata": {
        "colab": {
          "base_uri": "https://localhost:8080/"
        },
        "id": "CuHJsGqqBqgG",
        "outputId": "bc5b2b7a-1852-4fff-8eb2-4594eb7c7839"
      },
      "outputs": [
        {
          "output_type": "execute_result",
          "data": {
            "text/plain": [
              "60000"
            ]
          },
          "metadata": {},
          "execution_count": 3
        }
      ],
      "source": [
        "len(X_train)"
      ]
    },
    {
      "cell_type": "code",
      "execution_count": 4,
      "metadata": {
        "colab": {
          "base_uri": "https://localhost:8080/"
        },
        "id": "kcp_pSLaBqgH",
        "outputId": "2c51223e-bead-472d-ca4b-3d779a036697"
      },
      "outputs": [
        {
          "output_type": "execute_result",
          "data": {
            "text/plain": [
              "10000"
            ]
          },
          "metadata": {},
          "execution_count": 4
        }
      ],
      "source": [
        "len(X_test)"
      ]
    },
    {
      "cell_type": "code",
      "execution_count": 5,
      "metadata": {
        "colab": {
          "base_uri": "https://localhost:8080/"
        },
        "id": "FtnfwZJrBqgH",
        "outputId": "88bb0a17-7722-4057-8ebd-bb641eeaf5f7"
      },
      "outputs": [
        {
          "output_type": "execute_result",
          "data": {
            "text/plain": [
              "(28, 28)"
            ]
          },
          "metadata": {},
          "execution_count": 5
        }
      ],
      "source": [
        "X_train[0].shape"
      ]
    },
    {
      "cell_type": "code",
      "execution_count": 6,
      "metadata": {
        "colab": {
          "base_uri": "https://localhost:8080/",
          "height": 292
        },
        "id": "zRqEB0FrBqgH",
        "outputId": "6c645f39-0929-47ed-c74f-bf389b35f1ab"
      },
      "outputs": [
        {
          "output_type": "execute_result",
          "data": {
            "text/plain": [
              "<matplotlib.image.AxesImage at 0x7f6c6995d790>"
            ]
          },
          "metadata": {},
          "execution_count": 6
        },
        {
          "output_type": "display_data",
          "data": {
            "text/plain": [
              "<Figure size 288x288 with 1 Axes>"
            ],
            "image/png": "[encoded data removed]"
          },
          "metadata": {
            "needs_background": "light"
          }
        }
      ],
      "source": [
        "plt.matshow(X_train[0])"
      ]
    },
    {
      "cell_type": "code",
      "execution_count": 7,
      "metadata": {
        "colab": {
          "base_uri": "https://localhost:8080/"
        },
        "id": "YUMayd7tBqgI",
        "outputId": "a57f6bce-a8cd-4fc9-f662-af5221a1d310"
      },
      "outputs": [
        {
          "output_type": "execute_result",
          "data": {
            "text/plain": [
              "5"
            ]
          },
          "metadata": {},
          "execution_count": 7
        }
      ],
      "source": [
        "y_train[0]"
      ]
    },
    {
      "cell_type": "code",
      "execution_count": 8,
      "metadata": {
        "id": "jGOempuiBqgI"
      },
      "outputs": [],
      "source": [
        "X_train = X_train / 255\n",
        "X_test = X_test / 255"
      ]
    },
    {
      "cell_type": "code",
      "execution_count": 9,
      "metadata": {
        "id": "2kiVVj05BqgI"
      },
      "outputs": [],
      "source": [
        "X_train_flattened = X_train.reshape(len(X_train), 28*28)\n",
        "X_test_flattened = X_test.reshape(len(X_test), 28*28)"
      ]
    },
    {
      "cell_type": "code",
      "execution_count": 10,
      "metadata": {
        "colab": {
          "base_uri": "https://localhost:8080/"
        },
        "id": "Gh6bQN0OBqgJ",
        "outputId": "dfedfd18-0bcb-4363-c6e0-ed66cb1842fe"
      },
      "outputs": [
        {
          "output_type": "execute_result",
          "data": {
            "text/plain": [
              "(60000, 784)"
            ]
          },
          "metadata": {},
          "execution_count": 10
        }
      ],
      "source": [
        "X_train_flattened.shape"
      ]
    },
    {
      "cell_type": "markdown",
      "metadata": {
        "id": "dipRX3D_BqgJ"
      },
      "source": [
        "<h3 style='color:purple'>Using Flatten layer so that we don't have to call .reshape on input dataset</h3>"
      ]
    },
    {
      "cell_type": "code",
      "execution_count": 11,
      "metadata": {
        "scrolled": false,
        "colab": {
          "base_uri": "https://localhost:8080/"
        },
        "id": "kGuDxpa8BqgJ",
        "outputId": "08ed061c-f18c-46e8-cd02-b791a38ff1ee"
      },
      "outputs": [
        {
          "output_type": "stream",
          "name": "stdout",
          "text": [
            "Epoch 1/5\n",
            "1875/1875 [==============================] - 6s 3ms/step - loss: 0.2708 - accuracy: 0.9230\n",
            "Epoch 2/5\n",
            "1875/1875 [==============================] - 5s 3ms/step - loss: 0.1191 - accuracy: 0.9644\n",
            "Epoch 3/5\n",
            "1875/1875 [==============================] - 5s 3ms/step - loss: 0.0843 - accuracy: 0.9743\n",
            "Epoch 4/5\n",
            "1875/1875 [==============================] - 5s 3ms/step - loss: 0.0633 - accuracy: 0.9811\n",
            "Epoch 5/5\n",
            "1875/1875 [==============================] - 5s 3ms/step - loss: 0.0503 - accuracy: 0.9843\n"
          ]
        },
        {
          "output_type": "execute_result",
          "data": {
            "text/plain": [
              "<keras.callbacks.History at 0x7f6c64e2b5b0>"
            ]
          },
          "metadata": {},
          "execution_count": 11
        }
      ],
      "source": [
        "model = keras.Sequential([\n",
        "    keras.layers.Flatten(input_shape=(28, 28)),\n",
        "    keras.layers.Dense(100, activation='relu'),\n",
        "    keras.layers.Dense(10, activation='sigmoid')\n",
        "])\n",
        "\n",
        "model.compile(optimizer='adam',\n",
        "              loss='sparse_categorical_crossentropy',\n",
        "              metrics=['accuracy'])\n",
        "\n",
        "tb_callback = tf.keras.callbacks.TensorBoard(log_dir=\"logs/\", histogram_freq=1)\n",
        "\n",
        "model.fit(X_train, y_train, epochs=5, callbacks=[tb_callback])"
      ]
    },
    {
      "cell_type": "code",
      "execution_count": null,
      "metadata": {
        "id": "fSXAvw8sBqgK"
      },
      "outputs": [],
      "source": [
        "#%load_ext tensorboard\n",
        " %tensorboard --logdir /content/logs/train"
      ]
    },
    {
      "cell_type": "markdown",
      "metadata": {
        "id": "Cx8l6YzuBqgK"
      },
      "source": [
        "Either run above inline magic or go to git bash or your command prompt and type below to run it,\n",
        "`tensorboard --logdir logs/`\n",
        "This will launch tensorboard at this url which you can open in your browser `http://localhost:6006/`"
      ]
    },
    {
      "cell_type": "code",
      "execution_count": 14,
      "metadata": {
        "colab": {
          "base_uri": "https://localhost:8080/"
        },
        "id": "B1YejmzEBqgK",
        "outputId": "eef0e835-a720-4cff-f7eb-df7f828ce28f"
      },
      "outputs": [
        {
          "output_type": "execute_result",
          "data": {
            "text/plain": [
              "[array([[-0.0787182 , -0.02383338, -0.02597477, ...,  0.03302187,\n",
              "          0.00632665, -0.00459248],\n",
              "        [ 0.0394972 ,  0.00947156,  0.02137674, ..., -0.00989983,\n",
              "          0.08062336,  0.02440741],\n",
              "        [-0.02100499, -0.02407162,  0.05614536, ...,  0.07258436,\n",
              "          0.06613067,  0.02081814],\n",
              "        ...,\n",
              "        [ 0.06212346, -0.01161112,  0.06936754, ...,  0.03193384,\n",
              "         -0.06466831,  0.03248845],\n",
              "        [ 0.01241352,  0.06533527, -0.00126009, ...,  0.0798068 ,\n",
              "         -0.07185711, -0.07517691],\n",
              "        [ 0.04934613, -0.00948744,  0.07986651, ...,  0.0502152 ,\n",
              "         -0.00333874, -0.0731476 ]], dtype=float32),\n",
              " array([ 0.01199437,  0.07614073,  0.00063767, -0.07834134,  0.00699922,\n",
              "         0.19127902, -0.01809384,  0.01648058,  0.22823578, -0.05945256,\n",
              "         0.03516801, -0.03843931, -0.05873743,  0.13976026, -0.02366784,\n",
              "         0.03554199, -0.11718153,  0.03917583, -0.07267866,  0.0792578 ,\n",
              "         0.09603225, -0.07190827,  0.0395885 , -0.09370188,  0.15022516,\n",
              "        -0.15114652,  0.05564723, -0.10133512,  0.09514426,  0.08873399,\n",
              "         0.11077005, -0.01423889,  0.09775179, -0.050574  , -0.04803823,\n",
              "         0.19078328, -0.08393969,  0.11379235,  0.09829421,  0.03575931,\n",
              "        -0.02615942,  0.03636422, -0.08019355, -0.04273884, -0.01536055,\n",
              "        -0.0212153 ,  0.09637243, -0.05474058,  0.02033547, -0.07678378,\n",
              "         0.0125718 , -0.12665468, -0.00999595,  0.097688  , -0.1449508 ,\n",
              "         0.11056656,  0.07942858,  0.01536278,  0.0325268 , -0.1318456 ,\n",
              "         0.17628302,  0.18437895,  0.08845344,  0.20297019, -0.08857796,\n",
              "         0.05525303,  0.11170357,  0.05562419,  0.19827622, -0.02326156,\n",
              "         0.07463211,  0.20578863,  0.06676748, -0.07777808,  0.14902222,\n",
              "         0.05892041,  0.03394411, -0.00682154, -0.09104916, -0.09161998,\n",
              "         0.00295619,  0.05364498, -0.01373225,  0.01949357, -0.09737968,\n",
              "        -0.11644451,  0.06865297, -0.0306717 ,  0.07386924,  0.17157194,\n",
              "         0.03159283, -0.01241135,  0.19042195, -0.01790993,  0.02594534,\n",
              "         0.01922707, -0.06615094,  0.20704253, -0.139727  ,  0.12630214],\n",
              "       dtype=float32),\n",
              " array([[ 3.84103656e-01, -8.80786926e-02,  2.49218613e-01,\n",
              "         -1.37424514e-01,  7.57465605e-03, -5.79579592e-01,\n",
              "         -3.67528111e-01,  2.61179507e-01, -4.68905777e-01,\n",
              "          2.44743422e-01],\n",
              "        [-9.29161131e-01,  2.63205796e-01,  2.44232357e-01,\n",
              "         -9.03188363e-02,  1.14055403e-01,  1.36662319e-01,\n",
              "         -5.96752048e-01, -2.23655999e-01, -2.97185630e-01,\n",
              "          4.00693640e-02],\n",
              "        [-3.79800171e-01, -3.44064347e-02,  1.85227931e-01,\n",
              "          5.17747521e-01, -7.28853464e-01,  4.14420813e-01,\n",
              "         -2.37304777e-01,  2.08986595e-01, -3.49503577e-01,\n",
              "         -6.05289638e-01],\n",
              "        [ 2.63726473e-01,  1.31586984e-01,  4.87834066e-02,\n",
              "         -5.19485623e-02,  7.91844502e-02, -1.30142123e-01,\n",
              "          1.12805709e-01, -7.54780591e-01, -3.57533336e-01,\n",
              "         -5.51006664e-03],\n",
              "        [ 2.28813350e-01, -2.58957714e-01, -7.15580732e-02,\n",
              "         -8.17609131e-02,  1.12737738e-01, -2.05477551e-01,\n",
              "          1.98685303e-01,  8.32036287e-02,  1.52315199e-01,\n",
              "          2.01475322e-01],\n",
              "        [-8.80186483e-02, -5.82993746e-01,  4.03336808e-02,\n",
              "          2.64296353e-01,  1.08379640e-01,  2.18962073e-01,\n",
              "         -5.71631432e-01,  2.66565382e-01, -2.86099881e-01,\n",
              "          1.95095822e-01],\n",
              "        [-5.61863184e-01, -1.79195225e-01, -5.13925314e-01,\n",
              "          2.99916148e-01, -4.11623120e-01,  4.93229389e-01,\n",
              "         -2.43896008e-01, -4.19196486e-01, -8.13356578e-01,\n",
              "          6.52538761e-02],\n",
              "        [-1.75359279e-01,  7.18426853e-02, -1.49805829e-01,\n",
              "         -2.22665779e-02, -1.46292880e-01, -1.66732028e-01,\n",
              "         -1.64363965e-01, -1.13944344e-01,  2.35226557e-01,\n",
              "          1.75727978e-01],\n",
              "        [ 1.93131436e-02, -5.15317857e-01, -8.05154741e-02,\n",
              "         -4.60175842e-01,  2.29741156e-01,  1.56717092e-01,\n",
              "          2.35804781e-01,  7.09854364e-02, -1.13229762e-04,\n",
              "         -2.72440650e-02],\n",
              "        [-4.30791706e-01,  4.52342868e-01,  9.60406139e-02,\n",
              "          3.47420722e-01,  5.02475321e-01, -9.28385794e-01,\n",
              "         -5.79917252e-01,  3.43524605e-01, -1.56160155e-02,\n",
              "         -2.85568863e-01],\n",
              "        [ 7.87174776e-02,  2.30900392e-01,  3.48223090e-01,\n",
              "          3.75381745e-02,  3.92617583e-01,  9.19713303e-02,\n",
              "          1.13794863e-01, -5.87839246e-01, -8.67380127e-02,\n",
              "          3.02044839e-01],\n",
              "        [-5.83590925e-01,  2.48006761e-01,  2.23646328e-01,\n",
              "         -8.00959580e-03, -7.83020973e-01, -1.30938098e-01,\n",
              "         -3.56942385e-01,  2.96516210e-01, -2.72040755e-01,\n",
              "         -8.44093919e-01],\n",
              "        [ 2.10446581e-01, -3.64930391e-01, -4.32577319e-02,\n",
              "          1.84402853e-01,  1.16828628e-01, -1.37772694e-01,\n",
              "         -3.12737703e-01,  1.05374403e-01,  1.69623941e-02,\n",
              "         -5.18125370e-02],\n",
              "        [-1.44665400e-02, -2.83294708e-01,  8.26677829e-02,\n",
              "         -7.72156641e-02,  2.44277745e-01, -7.37641081e-02,\n",
              "          2.25061998e-01,  1.59117416e-01,  1.42311677e-01,\n",
              "         -1.79739520e-01],\n",
              "        [-4.54319745e-01,  4.34771717e-01, -5.82250655e-01,\n",
              "         -8.48445110e-03, -2.25108653e-01,  3.88166815e-01,\n",
              "          1.86850041e-01,  1.19910903e-01, -9.27339420e-02,\n",
              "          5.51786833e-02],\n",
              "        [ 1.18528634e-01,  1.20242164e-01,  1.07911535e-01,\n",
              "         -5.42317219e-02, -3.19592506e-01, -8.08793232e-02,\n",
              "          1.31349057e-01, -1.25104338e-01,  1.04362868e-01,\n",
              "         -5.12014508e-01],\n",
              "        [ 8.68127495e-02, -2.01920897e-01,  3.46389323e-01,\n",
              "          4.33646262e-01, -4.64056015e-01, -1.86445877e-01,\n",
              "         -2.64652371e-01,  3.85053843e-01, -1.52086094e-01,\n",
              "         -6.21354222e-01],\n",
              "        [ 1.48886040e-01,  6.86294019e-01, -1.30994067e-01,\n",
              "          4.17907573e-02, -4.03241843e-01,  3.00999761e-01,\n",
              "         -3.93102348e-01, -2.91102558e-01, -5.59739232e-01,\n",
              "         -8.60371366e-02],\n",
              "        [-6.95403039e-01, -1.83433294e-01,  5.05420744e-01,\n",
              "          2.98525125e-01, -3.51839364e-01, -2.95722112e-02,\n",
              "         -6.40918612e-01,  2.37066075e-01, -3.64050388e-01,\n",
              "         -9.32332158e-01],\n",
              "        [-1.25976488e-01, -3.98421198e-01, -1.10102437e-01,\n",
              "         -6.48349449e-02, -1.18626051e-01,  1.55161778e-02,\n",
              "         -3.44018310e-01, -6.14308752e-02,  1.69897124e-01,\n",
              "          1.59641832e-01],\n",
              "        [ 2.66172707e-01,  3.42479050e-01, -1.46737725e-01,\n",
              "         -3.68475318e-01, -5.11753917e-01,  4.71334040e-01,\n",
              "          2.63882369e-01,  1.39751554e-01, -1.13307558e-01,\n",
              "          2.84713149e-01],\n",
              "        [-2.52452288e-02, -5.16607642e-01, -3.81230637e-02,\n",
              "         -1.50965109e-01, -1.27859801e-01, -2.23971948e-01,\n",
              "          1.59136459e-01, -1.77127451e-01, -2.30497658e-01,\n",
              "          2.07678005e-01],\n",
              "        [ 3.42537314e-01, -3.13312486e-02,  1.69039875e-01,\n",
              "         -3.44386101e-01,  1.32200062e-01, -2.63396412e-01,\n",
              "         -6.28471300e-02,  1.00822218e-01, -8.28930974e-01,\n",
              "          1.70593843e-01],\n",
              "        [ 2.89293766e-01, -2.57729232e-01,  2.38335922e-01,\n",
              "          1.92909241e-02, -5.08762300e-01, -1.72299653e-01,\n",
              "         -8.11526477e-02, -7.59037137e-02,  1.35957763e-01,\n",
              "         -1.30017310e-01],\n",
              "        [-5.20905614e-01,  9.29156467e-02, -2.63439119e-01,\n",
              "          8.05977285e-02,  6.46070548e-05,  2.12570488e-01,\n",
              "          2.81860661e-02, -3.71207178e-01,  3.68727982e-01,\n",
              "          3.17252994e-01],\n",
              "        [ 2.45056167e-01,  2.26474747e-01,  1.00525387e-01,\n",
              "          2.19104156e-01, -6.43980503e-01, -1.93122447e-01,\n",
              "         -5.61395735e-02, -1.04121625e-01,  1.28083214e-01,\n",
              "          8.52486938e-02],\n",
              "        [ 9.23734009e-02, -3.03823769e-01,  2.59792417e-01,\n",
              "         -1.93765432e-01,  3.39449823e-01, -4.47103411e-01,\n",
              "         -1.75967857e-01,  2.51721621e-01, -6.17478676e-02,\n",
              "          2.01031625e-01],\n",
              "        [-2.31384709e-01,  2.02650636e-01,  2.87866443e-01,\n",
              "          2.20466927e-01,  1.20124914e-01, -2.37600744e-01,\n",
              "          2.89816171e-01,  4.04820234e-01, -4.12930161e-01,\n",
              "         -7.97609806e-01],\n",
              "        [ 2.59765297e-01,  3.01498711e-01,  2.39689931e-01,\n",
              "         -4.07027960e-01,  8.58669207e-02, -3.77709687e-01,\n",
              "          1.05234861e-01,  1.50706647e-02,  2.65083313e-01,\n",
              "         -7.26651311e-01],\n",
              "        [-1.77624002e-01,  6.34205163e-01, -6.03979945e-01,\n",
              "         -5.90633273e-01,  6.12597346e-01,  1.63350299e-01,\n",
              "         -3.85070518e-02, -6.75306767e-02, -2.71111608e-01,\n",
              "         -4.12174433e-01],\n",
              "        [ 9.07111689e-02, -2.30971962e-01,  5.97769797e-01,\n",
              "          9.57408082e-03, -5.61281443e-01,  1.54120639e-01,\n",
              "         -1.12830669e-01, -4.72858757e-01, -4.06656742e-01,\n",
              "         -3.75372559e-01],\n",
              "        [-4.88505185e-01,  2.25235537e-01, -1.36198029e-01,\n",
              "          7.56788254e-02,  3.64027113e-01, -1.82583496e-01,\n",
              "         -3.89633149e-01,  3.69053155e-01, -2.29873359e-01,\n",
              "         -2.82780349e-01],\n",
              "        [-6.04233146e-02,  2.28746623e-01,  6.99089691e-02,\n",
              "          6.84439018e-02, -9.97239798e-02,  1.36950985e-01,\n",
              "         -7.54143596e-02, -3.92951876e-01,  2.71192461e-01,\n",
              "         -2.21741244e-01],\n",
              "        [ 1.84315562e-01, -4.34641212e-01,  7.12738559e-02,\n",
              "          5.54979928e-02, -8.21452558e-01,  1.10393904e-01,\n",
              "          8.54468197e-02, -1.13302114e-04, -7.22582266e-02,\n",
              "         -2.89366961e-01],\n",
              "        [ 1.64750934e-01,  2.23276094e-01, -2.20181085e-02,\n",
              "         -1.14383519e-01, -3.09650034e-01, -8.95084515e-02,\n",
              "          1.55715257e-01, -2.33729884e-01,  6.28195843e-03,\n",
              "         -2.42767870e-01],\n",
              "        [-5.08014321e-01,  1.38466805e-01, -4.34200585e-01,\n",
              "          1.40486121e-01,  1.61319450e-01,  9.96590331e-02,\n",
              "         -5.18147290e-01,  9.60651711e-02,  2.76641369e-01,\n",
              "          1.79148912e-01],\n",
              "        [-3.93811405e-01, -2.86595613e-01,  1.22518696e-01,\n",
              "          8.12124431e-01, -1.98127806e-01, -5.45581102e-01,\n",
              "          1.47748813e-01,  1.45377040e-01, -1.47543848e-01,\n",
              "         -5.09510934e-01],\n",
              "        [-4.57724668e-02, -4.83058803e-02, -9.09000397e-01,\n",
              "          1.96537692e-02,  4.75883931e-02,  4.26833361e-01,\n",
              "          1.95794255e-01, -8.05560052e-02, -8.64454079e-03,\n",
              "         -9.03662965e-02],\n",
              "        [-5.75955629e-01,  3.38328779e-01,  6.25971258e-01,\n",
              "         -2.24774377e-03, -9.99254063e-02,  1.85206071e-01,\n",
              "          3.50837767e-01,  5.34425557e-01, -2.65792280e-01,\n",
              "         -9.72024918e-01],\n",
              "        [-4.85748462e-02, -4.28670317e-01,  2.42267475e-01,\n",
              "         -9.40378457e-02,  3.24336976e-01, -2.79220957e-02,\n",
              "          2.38494247e-01, -2.79634058e-01, -2.92137992e-02,\n",
              "          3.40366691e-01],\n",
              "        [-8.92932117e-02,  6.71656951e-02,  2.33444065e-01,\n",
              "          1.73960194e-01, -3.26516367e-02, -1.30727902e-01,\n",
              "         -3.33808452e-01,  1.54203102e-01,  2.16571018e-01,\n",
              "          1.78945020e-01],\n",
              "        [-2.46261433e-01, -3.36298466e-01, -7.42088497e-01,\n",
              "         -1.30756423e-01, -8.91066730e-01,  6.45377338e-01,\n",
              "          5.15654325e-01,  8.69825929e-02, -2.46104285e-01,\n",
              "         -1.17067069e-01],\n",
              "        [ 1.07022069e-01,  4.88132656e-01, -1.09059617e-01,\n",
              "          1.31540075e-01,  5.07826269e-01, -3.11185747e-01,\n",
              "         -3.33072543e-01,  1.60472050e-01, -3.34131390e-01,\n",
              "         -6.44768924e-02],\n",
              "        [-2.41720319e-01, -3.66845459e-01,  1.78276882e-01,\n",
              "          2.07744852e-01, -7.91194797e-01,  4.86029625e-01,\n",
              "         -1.78787529e-01,  2.08353862e-01,  7.45282471e-02,\n",
              "          6.97952509e-02],\n",
              "        [ 8.41903239e-02,  2.20714703e-01, -1.66589513e-01,\n",
              "         -1.88304633e-01, -5.20413667e-02, -3.20303887e-01,\n",
              "         -1.49200633e-01,  1.57520343e-02, -2.36027807e-01,\n",
              "         -7.34783038e-02],\n",
              "        [ 1.27936512e-01, -4.51439559e-01, -6.91395283e-01,\n",
              "          3.62957343e-02,  1.61867961e-01,  2.92384356e-01,\n",
              "          2.11615607e-01,  1.41725406e-01, -1.22120887e-01,\n",
              "          2.91145712e-01],\n",
              "        [ 2.06954166e-01,  9.53211114e-02,  2.09702831e-03,\n",
              "         -3.98337930e-01, -2.54934967e-01, -9.75428075e-02,\n",
              "          2.56606072e-01, -4.25657362e-01,  2.35814586e-01,\n",
              "          1.73017263e-01],\n",
              "        [-7.82178283e-01,  1.82055622e-01,  1.36492282e-01,\n",
              "          3.30693632e-01, -9.79739428e-02,  2.20782220e-01,\n",
              "         -6.24281347e-01,  3.29928070e-01,  1.80878058e-01,\n",
              "         -1.25779286e-01],\n",
              "        [ 1.43904770e-02, -2.25948200e-01,  2.04517260e-01,\n",
              "          1.03560358e-01, -2.00524420e-01,  2.41950855e-01,\n",
              "         -5.12052834e-01, -1.43063203e-01,  4.83100265e-02,\n",
              "         -2.22668111e-01],\n",
              "        [ 1.54052451e-01, -4.28171247e-01, -1.66647553e-01,\n",
              "          1.16295971e-01, -6.00724816e-01, -1.00550607e-01,\n",
              "          2.16146838e-02,  4.98807766e-02, -1.43872602e-02,\n",
              "         -7.61694685e-02],\n",
              "        [-3.89837436e-02, -3.20449695e-02, -2.95554511e-02,\n",
              "         -1.89061865e-01,  1.19651131e-01, -2.90213036e-03,\n",
              "          4.31012154e-01,  5.85237332e-02, -5.47335684e-01,\n",
              "         -2.71215260e-01],\n",
              "        [ 5.24737872e-02,  2.44062990e-01, -5.63417897e-02,\n",
              "          2.91864783e-01, -2.96303719e-01,  3.59754086e-01,\n",
              "         -6.97238147e-01, -5.17262101e-01, -3.28337699e-01,\n",
              "          2.55837679e-01],\n",
              "        [-4.72997904e-01, -3.44845653e-01, -5.63347995e-01,\n",
              "          6.69087470e-01, -2.80840605e-01,  2.68774390e-01,\n",
              "         -4.51468498e-01, -2.42029250e-01, -6.53211415e-01,\n",
              "          3.08039546e-01],\n",
              "        [-4.41954434e-02,  2.74732113e-01,  1.02074899e-01,\n",
              "         -5.25245607e-01,  2.37150520e-01,  6.40132129e-02,\n",
              "         -4.46792394e-01, -2.14382395e-01, -7.42222250e-01,\n",
              "          1.95455283e-01],\n",
              "        [ 2.87612796e-01,  1.65235549e-01,  6.17175782e-03,\n",
              "          1.45497397e-01, -1.27963737e-01, -5.10793269e-01,\n",
              "          2.09067643e-01, -1.72550619e-01, -6.43207431e-02,\n",
              "         -3.00130202e-03],\n",
              "        [-9.27299038e-02, -4.61874247e-01,  2.65475184e-01,\n",
              "         -1.95876017e-01, -3.55609238e-01,  7.95366243e-02,\n",
              "         -1.36970803e-01,  2.25992814e-01,  9.53129381e-02,\n",
              "          4.17987108e-02],\n",
              "        [-2.80201554e-01,  1.29271254e-01,  2.51489669e-01,\n",
              "         -4.48822737e-01,  1.94485515e-01, -5.50740846e-02,\n",
              "          1.10490710e-01,  3.88523728e-01,  4.15869318e-02,\n",
              "         -7.20615089e-01],\n",
              "        [ 3.30846965e-01, -4.57241595e-01,  1.46906242e-01,\n",
              "          3.23492996e-02, -6.80894032e-02,  2.33030692e-02,\n",
              "         -1.05024777e-01,  1.55274183e-01, -1.93571538e-01,\n",
              "         -3.62144969e-02],\n",
              "        [ 3.30009490e-01, -7.95103163e-02, -1.68788433e-01,\n",
              "         -3.02877158e-01,  2.12598875e-01, -3.20351243e-01,\n",
              "         -2.64034212e-01,  1.31641865e-01,  2.34326883e-03,\n",
              "          2.69797951e-01],\n",
              "        [ 2.56953537e-02, -3.79385650e-01,  2.34873161e-01,\n",
              "          1.51565194e-01,  9.03398171e-02, -2.43582353e-01,\n",
              "         -1.63288534e-01, -2.47959092e-01,  8.84888917e-02,\n",
              "          6.48404509e-02],\n",
              "        [-3.20794076e-01, -3.70022267e-01,  1.64174303e-01,\n",
              "          1.13921091e-01, -1.93507090e-01,  2.40959436e-01,\n",
              "         -8.72878730e-01,  2.58829862e-01, -2.18089968e-01,\n",
              "          1.63465068e-01],\n",
              "        [ 3.12092379e-02, -1.33939430e-01, -2.73147881e-01,\n",
              "         -2.17990950e-01, -2.38103330e-01,  3.29810858e-01,\n",
              "         -1.38536558e-01,  8.62796381e-02,  2.80317813e-01,\n",
              "          4.77935262e-02],\n",
              "        [-1.89171135e-01,  9.74095166e-02,  1.94202065e-01,\n",
              "         -8.46761689e-02,  1.27340436e-01,  4.09227610e-01,\n",
              "          2.27935925e-01,  2.34563977e-01, -2.63043821e-01,\n",
              "         -8.56202900e-01],\n",
              "        [-3.39096040e-01, -4.27127630e-01, -3.25553238e-01,\n",
              "         -4.24962997e-01,  3.02690357e-01,  2.75579631e-01,\n",
              "         -2.69689679e-01, -1.62894830e-01,  1.54754281e-01,\n",
              "         -1.42775238e-01],\n",
              "        [ 1.03769153e-01, -4.51720536e-01,  2.10651994e-01,\n",
              "          9.62830707e-02, -6.72651649e-01, -1.67743132e-01,\n",
              "         -3.86038005e-01,  2.64179945e-01,  9.60107073e-02,\n",
              "          2.11110398e-01],\n",
              "        [-1.01475596e-01, -3.26333731e-01, -2.92319387e-01,\n",
              "         -2.64949650e-01, -8.68349671e-02,  1.62554681e-01,\n",
              "         -2.99933314e-01,  3.79076481e-01, -3.58764529e-01,\n",
              "          1.00163274e-01],\n",
              "        [-2.61359155e-01,  1.18395694e-01, -3.92172933e-01,\n",
              "          8.01952854e-02,  1.87252015e-01,  1.18774191e-01,\n",
              "         -1.14650704e-01, -2.04066977e-01,  3.57836068e-01,\n",
              "         -5.54701947e-02],\n",
              "        [-4.32819098e-01, -1.89463437e-01,  1.52576026e-02,\n",
              "          4.99954373e-02,  1.51308358e-01, -3.11022431e-01,\n",
              "          8.00608099e-02, -1.64076820e-01, -3.89893390e-02,\n",
              "          7.83864874e-03],\n",
              "        [ 2.27742214e-02, -2.90250391e-01,  2.06897721e-01,\n",
              "         -2.39001632e-01, -1.49143144e-01,  2.12652683e-01,\n",
              "          3.09018403e-01, -2.05524668e-01,  4.25689518e-02,\n",
              "         -5.76091170e-01],\n",
              "        [-2.61628151e-01,  2.67861873e-01, -3.78366172e-01,\n",
              "         -7.74361670e-01,  6.73943609e-02,  2.36524880e-01,\n",
              "          1.63858771e-01,  1.30814156e-02, -3.40519488e-01,\n",
              "          2.88703710e-01],\n",
              "        [-7.98384249e-01, -4.06945683e-02, -3.42525035e-01,\n",
              "          2.40140215e-01,  3.89366537e-01, -2.43496895e-01,\n",
              "         -1.70792282e-01,  2.13755488e-01, -3.05211872e-01,\n",
              "          2.28055790e-01],\n",
              "        [ 2.36538544e-01,  1.45556629e-01, -4.00112867e-01,\n",
              "          4.70376983e-02, -4.26323354e-01,  2.59601504e-01,\n",
              "         -7.13235885e-02, -1.66116014e-01,  1.12621985e-01,\n",
              "         -2.96450779e-02],\n",
              "        [ 1.36574179e-01, -6.69649065e-01, -3.99244070e-01,\n",
              "         -2.16377322e-02,  8.74248147e-02,  9.45441872e-02,\n",
              "          3.67840007e-02, -6.54777363e-02,  6.23968914e-02,\n",
              "         -2.64491051e-01],\n",
              "        [ 7.80005604e-02, -4.74514872e-01, -2.28303060e-01,\n",
              "          3.14325631e-01, -3.33887458e-01,  1.82377115e-01,\n",
              "          4.22997773e-01,  4.77980860e-02,  2.17283866e-03,\n",
              "         -1.43735275e-01],\n",
              "        [ 2.18094349e-01,  4.98602316e-02, -2.25555133e-02,\n",
              "         -2.51820326e-01, -1.13376245e-01,  7.72234499e-02,\n",
              "          1.67461455e-01, -3.92770767e-01,  1.30543575e-01,\n",
              "         -1.37079954e-01],\n",
              "        [-7.09309578e-01,  9.94382799e-02,  3.12627673e-01,\n",
              "         -1.85304105e-01,  1.27081633e-01,  3.77492100e-01,\n",
              "          1.99630499e-01, -3.36866885e-01, -1.48885056e-01,\n",
              "         -5.54074384e-02],\n",
              "        [ 1.03265494e-01, -4.48852777e-01,  8.29259306e-02,\n",
              "         -1.69974789e-01,  8.66034999e-02, -8.93819779e-02,\n",
              "         -2.34807044e-01, -1.94199905e-01,  5.29129207e-02,\n",
              "          1.83187351e-01],\n",
              "        [-1.22151030e-02,  3.13850254e-01, -7.74485469e-02,\n",
              "          7.39816874e-02,  1.69196323e-01,  1.19660690e-01,\n",
              "          2.20035553e-01,  1.85342133e-01, -1.78977743e-01,\n",
              "         -8.23963702e-01],\n",
              "        [-1.52574390e-01, -3.36265296e-01, -4.68239821e-02,\n",
              "          3.29213172e-01, -3.50718230e-01, -1.86000168e-02,\n",
              "         -4.68838215e-01,  1.44997671e-01,  1.69380486e-01,\n",
              "          2.28838965e-01],\n",
              "        [ 1.74219757e-01, -1.15922444e-01,  6.13965280e-02,\n",
              "          9.10456628e-02, -4.18708861e-01,  1.48426905e-01,\n",
              "         -2.19337970e-01, -2.26987854e-01,  1.45399541e-01,\n",
              "          1.36883110e-01],\n",
              "        [-3.53609294e-01, -5.01762033e-01, -6.17299527e-02,\n",
              "          7.05139339e-02, -6.63300231e-02,  2.53108472e-01,\n",
              "          1.39262334e-01, -4.46480304e-01,  1.63278162e-01,\n",
              "          1.92574300e-02],\n",
              "        [ 2.45838448e-01,  1.61093011e-01,  3.83395404e-01,\n",
              "         -2.07247466e-01, -3.76180381e-01, -5.32547534e-01,\n",
              "         -3.19454409e-02,  1.26132265e-01,  3.71006519e-01,\n",
              "          5.95314465e-02],\n",
              "        [ 1.02601007e-01,  1.51808694e-01, -1.02400921e-01,\n",
              "         -3.14528383e-02, -3.85691583e-01,  2.09485993e-01,\n",
              "         -5.97614348e-01,  2.69422352e-01, -1.68849602e-01,\n",
              "          3.32773983e-01],\n",
              "        [-1.41889796e-01, -2.18262002e-01,  1.97193012e-01,\n",
              "          1.55620247e-01, -4.97156605e-02, -1.73245445e-01,\n",
              "          1.73225507e-01, -3.54087681e-01,  3.16326827e-01,\n",
              "         -6.74067438e-02],\n",
              "        [ 1.96184665e-01,  3.40321004e-01, -3.12986046e-01,\n",
              "          2.35182658e-01, -1.60152882e-01, -5.72047293e-01,\n",
              "         -2.57844508e-01,  2.06358477e-01, -1.95694827e-02,\n",
              "          3.24339494e-02],\n",
              "        [ 2.96971768e-01, -5.44074252e-02,  4.41957116e-02,\n",
              "          1.55714825e-01, -4.39500481e-01,  2.49821339e-02,\n",
              "         -4.70332414e-01, -2.04826340e-01, -2.55325854e-01,\n",
              "          3.15465987e-01],\n",
              "        [-2.99256444e-01,  4.34440613e-01, -3.24219823e-01,\n",
              "         -3.17929476e-01,  4.79536235e-01, -3.63720983e-01,\n",
              "          4.76926938e-02,  6.56787157e-02, -5.72865844e-01,\n",
              "          2.77431607e-02],\n",
              "        [ 2.23877057e-01, -3.01403672e-01,  1.11075327e-01,\n",
              "          3.64658356e-01, -3.31384301e-01,  3.25925738e-01,\n",
              "          2.07901463e-01, -4.36327338e-01,  6.67860806e-02,\n",
              "         -2.49751538e-01],\n",
              "        [-4.54247743e-01,  7.00721219e-02,  1.70867488e-01,\n",
              "          1.15994010e-02,  5.39946139e-01, -1.66826919e-01,\n",
              "         -4.52307642e-01, -2.55148485e-02,  4.07229751e-01,\n",
              "         -5.24321079e-01],\n",
              "        [ 2.34198406e-01, -3.95228058e-01, -1.06352061e-01,\n",
              "         -1.95503592e-01,  2.20501393e-01,  1.23617671e-01,\n",
              "          1.55993119e-01,  3.84610802e-01, -2.89896190e-01,\n",
              "          1.61811218e-01],\n",
              "        [ 4.75766838e-01, -2.03883916e-01,  1.33387476e-01,\n",
              "         -1.41330987e-01, -4.49354142e-01, -1.96424395e-01,\n",
              "          1.30392671e-01, -2.27134854e-01, -5.73452711e-01,\n",
              "         -4.33784395e-01],\n",
              "        [-1.04880229e-01,  2.08177924e-01,  1.63873434e-01,\n",
              "         -3.90955806e-01, -3.19754392e-01,  3.58788013e-01,\n",
              "         -6.53877705e-02, -2.28597000e-01, -9.65506509e-02,\n",
              "          4.87419635e-01],\n",
              "        [ 7.64180198e-02,  6.07853949e-01,  5.95992282e-02,\n",
              "         -7.71397054e-01,  2.82617450e-01, -6.27990246e-01,\n",
              "          3.96890640e-01,  4.80158955e-01, -5.24942167e-02,\n",
              "         -2.44986773e-01],\n",
              "        [-4.87216115e-01,  6.94036782e-02, -1.22185707e-01,\n",
              "          2.33507484e-01, -2.37012148e-01, -2.20622048e-02,\n",
              "          3.22618894e-02, -2.91809618e-01,  1.66016072e-01,\n",
              "         -4.04645316e-02],\n",
              "        [-1.33394733e-01,  2.24320620e-01,  3.05515021e-01,\n",
              "         -4.41914976e-01,  3.48387152e-01, -7.15231419e-01,\n",
              "         -1.88809276e-01,  2.43219540e-01, -1.98101848e-01,\n",
              "          3.21762860e-01],\n",
              "        [-2.85930097e-01,  1.59572169e-01, -4.69706208e-01,\n",
              "          3.03762108e-02,  3.55402648e-01, -2.17230707e-01,\n",
              "         -5.04752457e-01, -1.61690205e-01, -2.99097061e-01,\n",
              "          3.06417733e-01],\n",
              "        [-2.07591638e-01, -3.00286878e-02, -1.29561111e-01,\n",
              "          2.80148052e-02, -1.65113911e-01, -4.13214684e-01,\n",
              "          3.88281524e-01, -4.57055032e-01, -4.26178565e-03,\n",
              "          5.57374097e-02],\n",
              "        [-3.79127800e-01, -3.55126075e-02,  2.55930632e-01,\n",
              "         -1.65412009e-01, -1.51890342e-03,  1.88964680e-01,\n",
              "          5.90184964e-02, -5.23090422e-01,  1.69740185e-01,\n",
              "         -7.50156790e-02],\n",
              "        [-1.61850452e-01,  4.29566652e-01,  2.81103462e-01,\n",
              "          2.12660834e-01, -3.46343964e-01, -5.76208770e-01,\n",
              "         -6.90739572e-01,  3.65012079e-01, -3.14597279e-01,\n",
              "          5.91913871e-02],\n",
              "        [ 1.53595973e-02,  3.36269557e-01, -6.43651485e-01,\n",
              "         -2.48238072e-01, -7.81275854e-02, -8.05075020e-02,\n",
              "         -1.67557016e-01,  3.78212363e-01, -4.11229312e-01,\n",
              "          3.11190993e-01]], dtype=float32),\n",
              " array([-0.1048935 , -0.0400806 , -0.02436745, -0.17882164,  0.09280578,\n",
              "         0.08866058,  0.0048239 , -0.00888702,  0.1724215 , -0.05504712],\n",
              "       dtype=float32)]"
            ]
          },
          "metadata": {},
          "execution_count": 14
        }
      ],
      "source": [
        "model.get_weights()"
      ]
    },
    {
      "cell_type": "code",
      "source": [],
      "metadata": {
        "id": "eGAS9EILE-T4"
      },
      "execution_count": null,
      "outputs": []
    }
  ],
  "metadata": {
    "kernelspec": {
      "display_name": "Python 3",
      "language": "python",
      "name": "python3"
    },
    "language_info": {
      "codemirror_mode": {
        "name": "ipython",
        "version": 3
      },
      "file_extension": ".py",
      "mimetype": "text/x-python",
      "name": "python",
      "nbconvert_exporter": "python",
      "pygments_lexer": "ipython3",
      "version": "3.8.5"
    },
    "colab": {
      "provenance": []
    }
  },
  "nbformat": 4,
  "nbformat_minor": 0
}